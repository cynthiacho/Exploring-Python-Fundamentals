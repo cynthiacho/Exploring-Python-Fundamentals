{
 "cells": [
  {
   "cell_type": "code",
   "execution_count": 20,
   "id": "2e1c4cc5",
   "metadata": {},
   "outputs": [],
   "source": [
    "class Count:\n",
    "    def __init__(self, limit):\n",
    "        self.limit = limit\n",
    "    \n",
    "    def __get_item__(self, index):\n",
    "        if index < self.limit:\n",
    "            return index\n",
    "        else:\n",
    "            raise IndexError"
   ]
  },
  {
   "cell_type": "code",
   "execution_count": 21,
   "id": "5043324d",
   "metadata": {},
   "outputs": [
    {
     "ename": "TypeError",
     "evalue": "'Count' object is not iterable",
     "output_type": "error",
     "traceback": [
      "\u001b[1;31m---------------------------------------------------------------------------\u001b[0m",
      "\u001b[1;31mTypeError\u001b[0m                                 Traceback (most recent call last)",
      "Cell \u001b[1;32mIn[21], line 2\u001b[0m\n\u001b[0;32m      1\u001b[0m test \u001b[38;5;241m=\u001b[39m Count(\u001b[38;5;241m5\u001b[39m)\n\u001b[1;32m----> 2\u001b[0m \u001b[38;5;28;01mfor\u001b[39;00m x \u001b[38;5;129;01min\u001b[39;00m test:\n\u001b[0;32m      3\u001b[0m     \u001b[38;5;28mprint\u001b[39m(x)\n",
      "\u001b[1;31mTypeError\u001b[0m: 'Count' object is not iterable"
     ]
    }
   ],
   "source": [
    "test = Count(5)\n",
    "for x in test:\n",
    "    print(x)"
   ]
  },
  {
   "cell_type": "code",
   "execution_count": null,
   "id": "914e6d44",
   "metadata": {},
   "outputs": [],
   "source": [
    "test[0]"
   ]
  },
  {
   "cell_type": "code",
   "execution_count": null,
   "id": "63997710",
   "metadata": {},
   "outputs": [],
   "source": [
    "test[5]"
   ]
  },
  {
   "cell_type": "code",
   "execution_count": null,
   "id": "80f741af",
   "metadata": {},
   "outputs": [],
   "source": [
    "class Fibonacci:\n",
    "    def __init__(self, limit):\n",
    "        #set the maximum number of Fibonacci numbers\n",
    "        self.limit = limit\n",
    "    \n",
    "    def __get_item__(self, index):\n",
    "        if index in (0,1):\n",
    "            return 1\n",
    "        elif index < self_limit:\n",
    "            last=1\n",
    "            current=1\n",
    "            \n",
    "            for i in range(2, index + 1):\n",
    "                result = last + current\n",
    "                last, current = current, result\n",
    "            return result\n",
    "        else:\n",
    "            raise IndexError"
   ]
  },
  {
   "cell_type": "code",
   "execution_count": null,
   "id": "622a067e",
   "metadata": {},
   "outputs": [],
   "source": [
    "fib = Fibonacci(6)\n",
    "[x for x in fib]"
   ]
  },
  {
   "cell_type": "code",
   "execution_count": 22,
   "id": "123edc6b",
   "metadata": {},
   "outputs": [],
   "source": [
    "class Fibonacci:\n",
    "    def __init__(self, limit):\n",
    "        #set the maximum number of Fibonacci numbers\n",
    "        self.limit = limit\n",
    "    \n",
    "    def __get_item__(self, index):\n",
    "        if index in (0,1):\n",
    "            return 1\n",
    "        elif index < self_limit:\n",
    "            return (self.__get__item__(index-1) + self.__get__item__(index-2))\n",
    "        else:\n",
    "            raise IndexError"
   ]
  },
  {
   "cell_type": "code",
   "execution_count": 23,
   "id": "af80516c",
   "metadata": {},
   "outputs": [
    {
     "ename": "TypeError",
     "evalue": "'Fibonacci' object is not iterable",
     "output_type": "error",
     "traceback": [
      "\u001b[1;31m---------------------------------------------------------------------------\u001b[0m",
      "\u001b[1;31mTypeError\u001b[0m                                 Traceback (most recent call last)",
      "Cell \u001b[1;32mIn[23], line 2\u001b[0m\n\u001b[0;32m      1\u001b[0m fib \u001b[38;5;241m=\u001b[39m Fibonacci(\u001b[38;5;241m6\u001b[39m)\n\u001b[1;32m----> 2\u001b[0m [x \u001b[38;5;28;01mfor\u001b[39;00m x \u001b[38;5;129;01min\u001b[39;00m fib]\n",
      "\u001b[1;31mTypeError\u001b[0m: 'Fibonacci' object is not iterable"
     ]
    }
   ],
   "source": [
    "fib = Fibonacci(6)\n",
    "[x for x in fib]"
   ]
  },
  {
   "cell_type": "code",
   "execution_count": 24,
   "id": "d3b0824e",
   "metadata": {},
   "outputs": [
    {
     "ename": "TypeError",
     "evalue": "'Fibonacci' object is not subscriptable",
     "output_type": "error",
     "traceback": [
      "\u001b[1;31m---------------------------------------------------------------------------\u001b[0m",
      "\u001b[1;31mTypeError\u001b[0m                                 Traceback (most recent call last)",
      "Cell \u001b[1;32mIn[24], line 1\u001b[0m\n\u001b[1;32m----> 1\u001b[0m \u001b[43mfib\u001b[49m\u001b[43m[\u001b[49m\u001b[38;5;241;43m5\u001b[39;49m\u001b[43m]\u001b[49m\n",
      "\u001b[1;31mTypeError\u001b[0m: 'Fibonacci' object is not subscriptable"
     ]
    }
   ],
   "source": [
    "fib[5]"
   ]
  },
  {
   "cell_type": "code",
   "execution_count": null,
   "id": "91b2dd83",
   "metadata": {},
   "outputs": [],
   "source": []
  }
 ],
 "metadata": {
  "kernelspec": {
   "display_name": "Python 3 (ipykernel)",
   "language": "python",
   "name": "python3"
  },
  "language_info": {
   "codemirror_mode": {
    "name": "ipython",
    "version": 3
   },
   "file_extension": ".py",
   "mimetype": "text/x-python",
   "name": "python",
   "nbconvert_exporter": "python",
   "pygments_lexer": "ipython3",
   "version": "3.9.16"
  }
 },
 "nbformat": 4,
 "nbformat_minor": 5
}
