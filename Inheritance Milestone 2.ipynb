{
 "cells": [
  {
   "cell_type": "code",
   "execution_count": 43,
   "id": "53a3e22b",
   "metadata": {},
   "outputs": [],
   "source": [
    "class Runner():\n",
    "    def run(self):\n",
    "        return f\"{self} is running\"\n",
    "    \n",
    "class Climber():\n",
    "    def climb(self):\n",
    "        return f\"{self} is climbing\"\n",
    "\n",
    "class Swimmer():\n",
    "    def swim(self):\n",
    "        return f\"{self} is swimming\"\n",
    "    \n",
    "class Crawler():\n",
    "    def crawl(self):\n",
    "        return f\"{self} is crawling\"\n",
    "    \n",
    "class Diver():\n",
    "    def dive(self):\n",
    "        return f\"{self} is diving\"\n",
    "    \n",
    "class Walker():\n",
    "    def walk(self):\n",
    "        return f\"{self} is walking\""
   ]
  },
  {
   "cell_type": "code",
   "execution_count": 44,
   "id": "e5d70075",
   "metadata": {},
   "outputs": [],
   "source": [
    "class Animal:\n",
    "    def __init__(self, name):\n",
    "        self.name = name\n",
    "        \n",
    "    def __repr__(self):\n",
    "        return self.name  \n",
    "        \n",
    "class Mammal(Animal):\n",
    "    \"\"\"This could hold any generic attributes all mammals have\"\"\"\n",
    "    pass\n",
    "\n",
    "class Bison(Animal, Runner):\n",
    "    pass\n",
    "\n",
    "class Bear(Animal, Runner, Climber):\n",
    "    pass"
   ]
  },
  {
   "cell_type": "code",
   "execution_count": 45,
   "id": "41c11353",
   "metadata": {},
   "outputs": [],
   "source": [
    "class Fish(Animal, Swimmer):\n",
    "    \"\"\"This could hold any generic attributes all fish have\"\"\"\n",
    "    def swim(self, depth):        \n",
    "        return f\"{super().swim()} at depth of {self.depth}\" \n",
    "        \n",
    "class Catfish(Fish):\n",
    "    pass "
   ]
  },
  {
   "cell_type": "code",
   "execution_count": 46,
   "id": "ebf9d7c1",
   "metadata": {},
   "outputs": [],
   "source": [
    "class Crustacean(Animal, Crawler):\n",
    "    def crawl(self, depth): \n",
    "        return f\"{super().crawl()} at self.depth\" \n",
    "    \n",
    "class Crab(Crustacean):\n",
    "    def crawl(self): \n",
    "        return f\"{self} is crawling\" \n",
    "    \n",
    "class Krill(Crustacean):\n",
    "    def dive(self): \n",
    "        return f\"{self} is diving\" \n",
    "     \n",
    "class Reptile(Animal):\n",
    "    def walk(self):        \n",
    "        return f\"{self} is walking\" \n",
    "    \n",
    "class Crocodile(Reptile):\n",
    "    def walk(self, mile):  \n",
    "        self.mile = mile\n",
    "        return f\"{super().walk()} at {self.mile} miles per hour\"      "
   ]
  },
  {
   "cell_type": "code",
   "execution_count": 47,
   "id": "95409fc9",
   "metadata": {},
   "outputs": [],
   "source": [
    "class Reptile(Animal, Walker):\n",
    "    \"\"\"This could hold any generic attributes all fish have\"\"\"    \n",
    "    def walk(self, mile):  \n",
    "        self.mile = mile        \n",
    "        return f\"{super().walk()} at {self.mile} miles per hour\"\n",
    "    \n",
    "    \n",
    "class Crocodile(Reptile, Walker):\n",
    "    pass  "
   ]
  },
  {
   "cell_type": "code",
   "execution_count": 48,
   "id": "88322c50",
   "metadata": {},
   "outputs": [
    {
     "name": "stdout",
     "output_type": "stream",
     "text": [
      "speedo is running\n",
      "smokey is running\n",
      "smokey is climbing\n"
     ]
    }
   ],
   "source": [
    "speedo = Bison(\"speedo\")\n",
    "print(speedo.run())\n",
    "smokey = Bear(\"smokey\")\n",
    "print(smokey.run())\n",
    "print(smokey.climb())"
   ]
  },
  {
   "cell_type": "code",
   "execution_count": 49,
   "id": "eda78fa9",
   "metadata": {},
   "outputs": [
    {
     "name": "stdout",
     "output_type": "stream",
     "text": [
      "speedo is running\n",
      "krilly is diving\n",
      "croc is walking at 5 miles per hour\n"
     ]
    }
   ],
   "source": [
    "krilly = Krill(\"krilly\")\n",
    "print(speedo.run())\n",
    "\n",
    "croc = Crocodile(\"croc\")\n",
    "\n",
    "print(krilly.dive())\n",
    "print(croc.walk(5))"
   ]
  },
  {
   "cell_type": "code",
   "execution_count": null,
   "id": "0e4f6314",
   "metadata": {},
   "outputs": [],
   "source": []
  }
 ],
 "metadata": {
  "kernelspec": {
   "display_name": "Python 3 (ipykernel)",
   "language": "python",
   "name": "python3"
  },
  "language_info": {
   "codemirror_mode": {
    "name": "ipython",
    "version": 3
   },
   "file_extension": ".py",
   "mimetype": "text/x-python",
   "name": "python",
   "nbconvert_exporter": "python",
   "pygments_lexer": "ipython3",
   "version": "3.9.13"
  }
 },
 "nbformat": 4,
 "nbformat_minor": 5
}
