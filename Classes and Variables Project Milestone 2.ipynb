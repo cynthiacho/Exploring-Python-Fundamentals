{
 "cells": [
  {
   "cell_type": "markdown",
   "id": "98aba80b",
   "metadata": {},
   "source": [
    "**Objective**\n",
    "\n",
    "Learn how to access and change class attributes from instance methods in a flexible way using class methods."
   ]
  },
  {
   "cell_type": "markdown",
   "id": "3ac85a67",
   "metadata": {},
   "source": [
    "**Importance to project**\n",
    "\n",
    "Completing this activity will help you understand how the class methods in Python work and how they can be used to manage class data."
   ]
  },
  {
   "cell_type": "code",
   "execution_count": 3,
   "id": "b515f1b0",
   "metadata": {},
   "outputs": [],
   "source": [
    "def close(self):\n",
    "        Connection.conn_count = Connection.conn_count - 1"
   ]
  },
  {
   "cell_type": "code",
   "execution_count": 19,
   "id": "356e2c8f",
   "metadata": {},
   "outputs": [
    {
     "data": {
      "text/plain": [
       "my.net, 55001"
      ]
     },
     "execution_count": 19,
     "metadata": {},
     "output_type": "execute_result"
    }
   ],
   "source": [
    "# Rework your final class from the previous activity to use the class itself to access class data:\n",
    "\n",
    "# Using the Class to access Class attributes\n",
    "\n",
    "class Connection:\n",
    "    port = 55000\n",
    "    conn_limit = 10\n",
    "    conn_count = 0\n",
    "    \n",
    "    def __init__(self, host):\n",
    "        if Connection.conn_count < Connection.conn_limit:          \n",
    "            Connection.conn_count += 1 \n",
    "        self.host = host\n",
    "        self.port = Connection.port + Connection.conn_count    \n",
    "    def close(self):\n",
    "        Connection.conn_count -= 1\n",
    "    def __repr__(self):\n",
    "        return f\"{self.host}, {self.port}\"    \n",
    "    \n",
    "conn1 = Connection(\"my.net\")\n",
    "conn1"
   ]
  },
  {
   "cell_type": "code",
   "execution_count": 20,
   "id": "7eac4a0e",
   "metadata": {},
   "outputs": [
    {
     "data": {
      "text/plain": [
       "home.net, 55002"
      ]
     },
     "execution_count": 20,
     "metadata": {},
     "output_type": "execute_result"
    }
   ],
   "source": [
    "conn2 = Connection(\"home.net\")\n",
    "conn2"
   ]
  },
  {
   "cell_type": "code",
   "execution_count": 21,
   "id": "f0e45fde",
   "metadata": {},
   "outputs": [
    {
     "data": {
      "text/plain": [
       "mappingproxy({'__module__': '__main__',\n",
       "              'port': 55000,\n",
       "              'conn_limit': 10,\n",
       "              'conn_count': 2,\n",
       "              '__init__': <function __main__.Connection.__init__(self, host)>,\n",
       "              'close': <function __main__.Connection.close(self)>,\n",
       "              '__repr__': <function __main__.Connection.__repr__(self)>,\n",
       "              '__dict__': <attribute '__dict__' of 'Connection' objects>,\n",
       "              '__weakref__': <attribute '__weakref__' of 'Connection' objects>,\n",
       "              '__doc__': None})"
      ]
     },
     "execution_count": 21,
     "metadata": {},
     "output_type": "execute_result"
    }
   ],
   "source": [
    "Connection.__dict__"
   ]
  },
  {
   "cell_type": "code",
   "execution_count": 22,
   "id": "08a16fc8",
   "metadata": {},
   "outputs": [
    {
     "data": {
      "text/plain": [
       "{'host': 'home.net', 'port': 55002}"
      ]
     },
     "execution_count": 22,
     "metadata": {},
     "output_type": "execute_result"
    }
   ],
   "source": [
    "conn2.__dict__"
   ]
  },
  {
   "cell_type": "code",
   "execution_count": null,
   "id": "c263042b",
   "metadata": {},
   "outputs": [],
   "source": []
  },
  {
   "cell_type": "markdown",
   "id": "e4963205",
   "metadata": {},
   "source": [
    "**Using the Class Attributes**"
   ]
  },
  {
   "cell_type": "code",
   "execution_count": 25,
   "id": "f55f6fc8",
   "metadata": {},
   "outputs": [
    {
     "data": {
      "text/plain": [
       "my.net, 55000"
      ]
     },
     "execution_count": 25,
     "metadata": {},
     "output_type": "execute_result"
    }
   ],
   "source": [
    "class Connection:\n",
    "    port = 55000\n",
    "    conn_limit = 10\n",
    "    conn_count = 0\n",
    "    \n",
    "    def __init__(self, host):\n",
    "        self.host = host\n",
    "        if self.__class__.conn_count < self.__class__.conn_limit:\n",
    "            self.__class__.conn_count += 1            \n",
    "    def close(self):\n",
    "        self.__class__.conn_count -= 1\n",
    "    def __repr__(self):\n",
    "        return f\"{self.host}, {self.port}\"    \n",
    "    \n",
    "conn1 = Connection(\"my.net\")\n",
    "conn1"
   ]
  },
  {
   "cell_type": "code",
   "execution_count": null,
   "id": "0fb51121",
   "metadata": {},
   "outputs": [],
   "source": []
  },
  {
   "cell_type": "markdown",
   "id": "99d86bd9",
   "metadata": {},
   "source": [
    "**Using the @class method**"
   ]
  },
  {
   "cell_type": "code",
   "execution_count": 27,
   "id": "1fd465d4",
   "metadata": {},
   "outputs": [],
   "source": [
    "class Connection:\n",
    "    port = 55000\n",
    "    conn_limit = 10\n",
    "    conn_count = 0\n",
    "    \n",
    "    def __init__(self, host):\n",
    "        self.host = host\n",
    "        self.add_connection()   \n",
    "        self.port = self.get_next_port()    \n",
    "    @classmethod\n",
    "    def get_next_port(cls):\n",
    "        return cls.port + cls.conn_count\n",
    "    @classmethod\n",
    "    def add_connection(cls):\n",
    "        if cls.conn_count < cls.conn_limit:\n",
    "            cls.conn_count += 1\n",
    "    @classmethod\n",
    "    def remove_connection(cls):\n",
    "        cls.conn_count -= 1\n",
    "    @classmethod\n",
    "    def get_connection_count(cls):\n",
    "        return cls.conn_count\n",
    "    def close(self):\n",
    "        self.remove_connection()\n",
    "    def __repr__(self):\n",
    "        return f\"{self.host}, {self.port}\"          "
   ]
  },
  {
   "cell_type": "code",
   "execution_count": 14,
   "id": "1f68e0e8",
   "metadata": {},
   "outputs": [],
   "source": []
  },
  {
   "cell_type": "code",
   "execution_count": 28,
   "id": "10b6d435",
   "metadata": {},
   "outputs": [
    {
     "data": {
      "text/plain": [
       "mappingproxy({'__module__': '__main__',\n",
       "              'port': 55000,\n",
       "              'conn_limit': 10,\n",
       "              'conn_count': 0,\n",
       "              '__init__': <function __main__.Connection.__init__(self, host)>,\n",
       "              'get_next_port': <classmethod at 0x18fea6e5940>,\n",
       "              'add_connection': <classmethod at 0x18fea6e53d0>,\n",
       "              'remove_connection': <classmethod at 0x18fea6e5ac0>,\n",
       "              'get_connection_count': <classmethod at 0x18fea7396d0>,\n",
       "              'close': <function __main__.Connection.close(self)>,\n",
       "              '__repr__': <function __main__.Connection.__repr__(self)>,\n",
       "              '__dict__': <attribute '__dict__' of 'Connection' objects>,\n",
       "              '__weakref__': <attribute '__weakref__' of 'Connection' objects>,\n",
       "              '__doc__': None})"
      ]
     },
     "execution_count": 28,
     "metadata": {},
     "output_type": "execute_result"
    }
   ],
   "source": [
    "Connection.__dict__"
   ]
  },
  {
   "cell_type": "code",
   "execution_count": 29,
   "id": "4b828d82",
   "metadata": {},
   "outputs": [
    {
     "data": {
      "text/plain": [
       "my.net, 55001"
      ]
     },
     "execution_count": 29,
     "metadata": {},
     "output_type": "execute_result"
    }
   ],
   "source": [
    "conn1 = Connection(\"my.net\")\n",
    "conn1"
   ]
  },
  {
   "cell_type": "code",
   "execution_count": 30,
   "id": "95dc47cc",
   "metadata": {},
   "outputs": [
    {
     "data": {
      "text/plain": [
       "home.net, 55002"
      ]
     },
     "execution_count": 30,
     "metadata": {},
     "output_type": "execute_result"
    }
   ],
   "source": [
    "conn2 = Connection(\"home.net\")\n",
    "conn2"
   ]
  },
  {
   "cell_type": "code",
   "execution_count": 31,
   "id": "ba45c3a7",
   "metadata": {},
   "outputs": [
    {
     "data": {
      "text/plain": [
       "2"
      ]
     },
     "execution_count": 31,
     "metadata": {},
     "output_type": "execute_result"
    }
   ],
   "source": [
    "Connection.get_connection_count()"
   ]
  },
  {
   "cell_type": "code",
   "execution_count": 32,
   "id": "7724e12c",
   "metadata": {},
   "outputs": [
    {
     "data": {
      "text/plain": [
       "1"
      ]
     },
     "execution_count": 32,
     "metadata": {},
     "output_type": "execute_result"
    }
   ],
   "source": [
    "conn1.remove_connection()\n",
    "Connection.get_connection_count()"
   ]
  },
  {
   "cell_type": "code",
   "execution_count": null,
   "id": "8a9dd25e",
   "metadata": {},
   "outputs": [],
   "source": []
  }
 ],
 "metadata": {
  "kernelspec": {
   "display_name": "Python 3 (ipykernel)",
   "language": "python",
   "name": "python3"
  },
  "language_info": {
   "codemirror_mode": {
    "name": "ipython",
    "version": 3
   },
   "file_extension": ".py",
   "mimetype": "text/x-python",
   "name": "python",
   "nbconvert_exporter": "python",
   "pygments_lexer": "ipython3",
   "version": "3.9.13"
  }
 },
 "nbformat": 4,
 "nbformat_minor": 5
}
