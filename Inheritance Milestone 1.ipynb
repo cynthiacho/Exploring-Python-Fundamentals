{
 "cells": [
  {
   "cell_type": "code",
   "execution_count": 27,
   "id": "e5d70075",
   "metadata": {},
   "outputs": [],
   "source": [
    "class Animal:\n",
    "    def __init__(self, name):\n",
    "        self.name = name\n",
    "        \n",
    "    def __repr__(self):\n",
    "        return self.name  \n",
    "        \n",
    "class Mammal(Animal):\n",
    "    def run(self):        \n",
    "        return f\"{self} is running\"      "
   ]
  },
  {
   "cell_type": "code",
   "execution_count": 28,
   "id": "1b8e90de",
   "metadata": {},
   "outputs": [],
   "source": [
    "class Bison(Mammal):\n",
    "    pass  \n",
    "        \n",
    "class Bear(Mammal):\n",
    "    def climb(self):  \n",
    "        return f\"{self} is climbing\"      "
   ]
  },
  {
   "cell_type": "code",
   "execution_count": 29,
   "id": "41c11353",
   "metadata": {},
   "outputs": [],
   "source": [
    "class Fish(Animal):\n",
    "    def swim(self, depth):        \n",
    "        return f\"{self} is swimming\" \n",
    "        \n",
    "class Catfish(Fish):\n",
    "    def swim(self, depth): \n",
    "        self.depth = depth\n",
    "        return f\"{super().swim()} at depth {self.depth}\" "
   ]
  },
  {
   "cell_type": "code",
   "execution_count": 30,
   "id": "ebf9d7c1",
   "metadata": {},
   "outputs": [],
   "source": [
    "class Crustacean(Animal):\n",
    "    def walk(self): \n",
    "        return f\"{self} is crawling\" \n",
    "    \n",
    "class Crab(Crustacean):\n",
    "    def crawl(self): \n",
    "        return f\"{self} is crawling\" \n",
    "    \n",
    "class Krill(Crustacean):\n",
    "    def dive(self): \n",
    "        return f\"{self} is diving\" \n",
    "     \n",
    "class Reptile(Animal):\n",
    "    def walk(self):        \n",
    "        return f\"{self} is traveling\" \n",
    "    \n",
    "class Crocodile(Reptile):\n",
    "    def walk(self, mile):  \n",
    "        self.mile = mile\n",
    "        return f\"{super().walk()} at {self.mile} miles per hour\"\n",
    "    \n",
    "    def travel(self):\n",
    "        return f\"{self} is walking\"        "
   ]
  },
  {
   "cell_type": "code",
   "execution_count": 31,
   "id": "88322c50",
   "metadata": {},
   "outputs": [
    {
     "name": "stdout",
     "output_type": "stream",
     "text": [
      "speedo is running\n",
      "smokey is running\n",
      "smokey is climbing\n"
     ]
    }
   ],
   "source": [
    "speedo = Bison(\"speedo\")\n",
    "print(speedo.run())\n",
    "\n",
    "smokey = Bear(\"smokey\")\n",
    "print(smokey.run())\n",
    "print(smokey.climb())"
   ]
  },
  {
   "cell_type": "code",
   "execution_count": 32,
   "id": "dc16776b",
   "metadata": {},
   "outputs": [
    {
     "name": "stdout",
     "output_type": "stream",
     "text": [
      "Crabby is crawling\n",
      "waterfish is diving\n",
      "croc is traveling at 10 miles per hour\n"
     ]
    }
   ],
   "source": [
    "Crabby = Crab(\"Crabby\")\n",
    "print(Crabby.crawl())\n",
    "\n",
    "waterfish = Krill(\"waterfish\")\n",
    "print(waterfish.dive())\n",
    "\n",
    "croc = Crocodile(\"croc\")\n",
    "print(croc.walk(10))"
   ]
  },
  {
   "cell_type": "code",
   "execution_count": null,
   "id": "0e4f6314",
   "metadata": {},
   "outputs": [],
   "source": []
  }
 ],
 "metadata": {
  "kernelspec": {
   "display_name": "Python 3 (ipykernel)",
   "language": "python",
   "name": "python3"
  },
  "language_info": {
   "codemirror_mode": {
    "name": "ipython",
    "version": 3
   },
   "file_extension": ".py",
   "mimetype": "text/x-python",
   "name": "python",
   "nbconvert_exporter": "python",
   "pygments_lexer": "ipython3",
   "version": "3.9.13"
  }
 },
 "nbformat": 4,
 "nbformat_minor": 5
}
