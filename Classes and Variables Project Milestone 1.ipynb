{
 "cells": [
  {
   "cell_type": "markdown",
   "id": "98aba80b",
   "metadata": {},
   "source": [
    "Objective\n",
    "\n",
    "-Create a class with both instance variables and class variables.\n",
    "-Experiment with accessing class variables.\n",
    "-Understand the problems with modifying class variables from within an instance."
   ]
  },
  {
   "cell_type": "markdown",
   "id": "3ac85a67",
   "metadata": {},
   "source": [
    "Importance to project\n",
    "\n",
    "This milestone will help you understand the difference between accessing a class attribute and an instance attribute.\n",
    "You will also learn the difference between modifying a mutable and an immutable class attribute."
   ]
  },
  {
   "cell_type": "code",
   "execution_count": 39,
   "id": "356e2c8f",
   "metadata": {},
   "outputs": [
    {
     "data": {
      "text/plain": [
       "my.net, 55001"
      ]
     },
     "execution_count": 39,
     "metadata": {},
     "output_type": "execute_result"
    }
   ],
   "source": [
    "class Connection:\n",
    "    port = 55000\n",
    "    conn_limit = 10\n",
    "    conn_count = 0\n",
    "    \n",
    "    def __init__(self, host):\n",
    "        # set the host for the instance\n",
    "        self.host = host\n",
    "        if self.conn_count < self.conn_limit:            \n",
    "# add 1 to the class's connection_count        \n",
    "            self.conn_count += 1    \n",
    "# set the port based on the class variable port       \n",
    "            self.port = self.port + self.conn_count    \n",
    "# reduce the class's connection_count by 1\n",
    "    def close(self):\n",
    "        self.conn_count -= 1\n",
    "    def __repr__(self):\n",
    "        return f\"{self.host}, {self.port}\"    \n",
    "    \n",
    "conn1 = Connection(\"my.net\")\n",
    "conn1"
   ]
  },
  {
   "cell_type": "code",
   "execution_count": 40,
   "id": "7eac4a0e",
   "metadata": {},
   "outputs": [
    {
     "data": {
      "text/plain": [
       "home.net, 55001"
      ]
     },
     "execution_count": 40,
     "metadata": {},
     "output_type": "execute_result"
    }
   ],
   "source": [
    "conn2 = Connection(\"home.net\")\n",
    "conn2"
   ]
  },
  {
   "cell_type": "code",
   "execution_count": 41,
   "id": "f0e45fde",
   "metadata": {},
   "outputs": [
    {
     "data": {
      "text/plain": [
       "mappingproxy({'__module__': '__main__',\n",
       "              'port': 55000,\n",
       "              'conn_limit': 10,\n",
       "              'conn_count': 0,\n",
       "              '__init__': <function __main__.Connection.__init__(self, host)>,\n",
       "              'close': <function __main__.Connection.close(self)>,\n",
       "              '__repr__': <function __main__.Connection.__repr__(self)>,\n",
       "              '__dict__': <attribute '__dict__' of 'Connection' objects>,\n",
       "              '__weakref__': <attribute '__weakref__' of 'Connection' objects>,\n",
       "              '__doc__': None})"
      ]
     },
     "execution_count": 41,
     "metadata": {},
     "output_type": "execute_result"
    }
   ],
   "source": [
    "Connection.__dict__"
   ]
  },
  {
   "cell_type": "code",
   "execution_count": 42,
   "id": "08a16fc8",
   "metadata": {},
   "outputs": [
    {
     "data": {
      "text/plain": [
       "{'host': 'home.net', 'conn_count': 1, 'port': 55001}"
      ]
     },
     "execution_count": 42,
     "metadata": {},
     "output_type": "execute_result"
    }
   ],
   "source": [
    "conn2.__dict__"
   ]
  },
  {
   "cell_type": "code",
   "execution_count": null,
   "id": "c263042b",
   "metadata": {},
   "outputs": [],
   "source": []
  },
  {
   "cell_type": "markdown",
   "id": "e4963205",
   "metadata": {},
   "source": [
    "As a second experiment, change the class, replace the connection_count attribute with a connections list, and have each instance add itself to the list in the __init__ method and remove itself in the close method."
   ]
  },
  {
   "cell_type": "code",
   "execution_count": 43,
   "id": "f55f6fc8",
   "metadata": {},
   "outputs": [
    {
     "data": {
      "text/plain": [
       "my.net, 55001"
      ]
     },
     "execution_count": 43,
     "metadata": {},
     "output_type": "execute_result"
    }
   ],
   "source": [
    "class Connection:\n",
    "    port = 55000\n",
    "    conn_limit = 10\n",
    "    connections = []\n",
    "    \n",
    "    def __init__(self, host):\n",
    "        # set the host for the instance\n",
    "        self.host = host\n",
    "        if len(self.connections) < self.conn_limit:     \n",
    "            self.connections.append(self)  \n",
    "# set the port based on the class variable port       \n",
    "            self.host = host\n",
    "            self.port = self.port + len(self.connections)\n",
    "# reduce the class's connection_count by 1\n",
    "    def close(self):\n",
    "        self.connections.remove(self)\n",
    "    def __repr__(self):\n",
    "        return f\"{self.host}, {self.port}\"    \n",
    "    \n",
    "conn1 = Connection(\"my.net\")\n",
    "conn1"
   ]
  },
  {
   "cell_type": "code",
   "execution_count": 44,
   "id": "9b73b414",
   "metadata": {},
   "outputs": [
    {
     "data": {
      "text/plain": [
       "home.net, 55002"
      ]
     },
     "execution_count": 44,
     "metadata": {},
     "output_type": "execute_result"
    }
   ],
   "source": [
    "conn2 = Connection(\"home.net\")\n",
    "conn2"
   ]
  },
  {
   "cell_type": "code",
   "execution_count": 45,
   "id": "1fccb563",
   "metadata": {},
   "outputs": [
    {
     "data": {
      "text/plain": [
       "{'host': 'home.net', 'port': 55002}"
      ]
     },
     "execution_count": 45,
     "metadata": {},
     "output_type": "execute_result"
    }
   ],
   "source": [
    "conn2.__dict__"
   ]
  },
  {
   "cell_type": "markdown",
   "id": "fd2cf80f",
   "metadata": {},
   "source": [
    "Above no longer create a copy of Class Variables in the instance"
   ]
  },
  {
   "cell_type": "code",
   "execution_count": 46,
   "id": "52a138b8",
   "metadata": {},
   "outputs": [
    {
     "data": {
      "text/plain": [
       "mappingproxy({'__module__': '__main__',\n",
       "              'port': 55000,\n",
       "              'conn_limit': 10,\n",
       "              'connections': [my.net, 55001, home.net, 55002],\n",
       "              '__init__': <function __main__.Connection.__init__(self, host)>,\n",
       "              'close': <function __main__.Connection.close(self)>,\n",
       "              '__repr__': <function __main__.Connection.__repr__(self)>,\n",
       "              '__dict__': <attribute '__dict__' of 'Connection' objects>,\n",
       "              '__weakref__': <attribute '__weakref__' of 'Connection' objects>,\n",
       "              '__doc__': None})"
      ]
     },
     "execution_count": 46,
     "metadata": {},
     "output_type": "execute_result"
    }
   ],
   "source": [
    "Connection.__dict__"
   ]
  },
  {
   "cell_type": "markdown",
   "id": "6d600d37",
   "metadata": {},
   "source": [
    "Above: \"Connection.__dict__\" (dunder) has an element for each connection"
   ]
  }
 ],
 "metadata": {
  "kernelspec": {
   "display_name": "Python 3 (ipykernel)",
   "language": "python",
   "name": "python3"
  },
  "language_info": {
   "codemirror_mode": {
    "name": "ipython",
    "version": 3
   },
   "file_extension": ".py",
   "mimetype": "text/x-python",
   "name": "python",
   "nbconvert_exporter": "python",
   "pygments_lexer": "ipython3",
   "version": "3.9.13"
  }
 },
 "nbformat": 4,
 "nbformat_minor": 5
}
