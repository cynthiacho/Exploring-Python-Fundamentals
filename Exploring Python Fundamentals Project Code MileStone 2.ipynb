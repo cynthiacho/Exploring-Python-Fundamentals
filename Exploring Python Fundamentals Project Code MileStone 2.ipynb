{
 "cells": [
  {
   "cell_type": "markdown",
   "id": "61aedcaf",
   "metadata": {},
   "source": [
    "\n",
    "## MILESTONE 2"
   ]
  },
  {
   "cell_type": "markdown",
   "id": "d0e0bca7",
   "metadata": {},
   "source": [
    "## IMMUTABLE OBJECTS"
   ]
  },
  {
   "cell_type": "code",
   "execution_count": 58,
   "id": "8ac507d8",
   "metadata": {},
   "outputs": [
    {
     "name": "stdout",
     "output_type": "stream",
     "text": [
      "The value of a is 50 and the id(a) is 2080807612240.\n",
      "The value of b is 25 and the id(b) is 2080807611440.\n",
      "The value of c is 40 and the id(c) is 2080807611920.\n",
      "\n",
      "Conclusion: For this int variable, an immutable object, the value of the variables is different and so is the id() address.\n"
     ]
    }
   ],
   "source": [
    "#\"\"\"For an immutable object I am expecting the value of the variable to differ and the addresses to differ as well\"\"\"\n",
    "\n",
    "#Compare variable change for int\n",
    "\n",
    "a = 50\n",
    "b = a\n",
    "b = 25\n",
    "c = 40\n",
    "\n",
    "print(f\"The value of a is {a} and the id(a) is {id(a)}.\")\n",
    "print(f\"The value of b is {b} and the id(b) is {id(b)}.\")\n",
    "print(f\"The value of c is {c} and the id(c) is {id(c)}.\")\n",
    "\n",
    "\n",
    "\n",
    "print(\"\\nConclusion: For this int variable, an immutable object, the value of the variables is different and so is the id() address.\")"
   ]
  },
  {
   "cell_type": "code",
   "execution_count": 57,
   "id": "8dd6fb2c",
   "metadata": {},
   "outputs": [
    {
     "name": "stdout",
     "output_type": "stream",
     "text": [
      "The value of a is 5.0 and the id(a) is 2080907479632.\n",
      "The value of a is 5.6 and the id(a) is 2080907480944.\n",
      "The value of a is 4.5 and the id(a) is 2080894577872.\n",
      "\n",
      "Conclusion: For this float variable, an immutable object, the value of the variables is different and so is the id() address.\n"
     ]
    }
   ],
   "source": [
    "#\"\"\"For an immutable object I am expecting the value of the variable to differ and the addresses to differ as well\"\"\"\n",
    "\n",
    "#Compare variable change for float\n",
    "\n",
    "a = 5.0\n",
    "b = 4.5\n",
    "c = b\n",
    "b = 5.6\n",
    "print(f\"The value of a is {a} and the id(a) is {id(a)}.\")\n",
    "print(f\"The value of a is {b} and the id(a) is {id(b)}.\")\n",
    "print(f\"The value of a is {c} and the id(a) is {id(c)}.\")\n",
    "\n",
    "print(\"\\nConclusion: For this float variable, an immutable object, the value of the variables is different and so is the id() address.\")"
   ]
  },
  {
   "cell_type": "code",
   "execution_count": 59,
   "id": "acb01b6d",
   "metadata": {},
   "outputs": [
    {
     "name": "stdout",
     "output_type": "stream",
     "text": [
      "The value of a is Three and the id(a) is 2080907649328.\n",
      "The value of a is Four and the id(a) is 2080907650032.\n",
      "\n",
      "Conclusion: For this string variable, an immutable object, the value of the variable is different and so is the id() address.\n"
     ]
    }
   ],
   "source": [
    "#\"\"\"For an immutable object I am expecting the value of the variable to differ and the addresses to differ as well\"\"\"\n",
    "\n",
    "#Compare variable change for string\n",
    "\n",
    "a = \"Three\"\n",
    "b = a\n",
    "b = \"Four\"\n",
    "\n",
    "print(f\"The value of a is {a} and the id(a) is {id(a)}.\")\n",
    "print(f\"The value of a is {b} and the id(a) is {id(b)}.\")\n",
    "\n",
    "print(\"\\nConclusion: For this string variable, an immutable object, the value of the variable is different and so is the id() address.\")"
   ]
  },
  {
   "cell_type": "code",
   "execution_count": 60,
   "id": "2830d0da",
   "metadata": {},
   "outputs": [
    {
     "name": "stdout",
     "output_type": "stream",
     "text": [
      "The value of a is (2, 4, 6) and the id(a) is 2080894888704.\n",
      "The value of a is (8, 9, 12) and the id(a) is 2080907747456.\n",
      "\n",
      "Conclusion: For this tuple variable, an immutable object, the value of the variable is different and so is the id() address.\n"
     ]
    }
   ],
   "source": [
    "#\"\"\"For an immutable object I am expecting the value of the variable to differ and the addresses to differ as well\"\"\"\n",
    "\n",
    "#Compare variable change for tuple\n",
    "\n",
    "a = (2,4,6)\n",
    "b = a\n",
    "b = (8,9,12)\n",
    "#b[1] = 10\n",
    "\n",
    "print(f\"The value of a is {a} and the id(a) is {id(a)}.\")\n",
    "print(f\"The value of a is {b} and the id(a) is {id(b)}.\")\n",
    "\n",
    "print(\"\\nConclusion: For this tuple variable, an immutable object, the value of the variable is different and so is the id() address.\")"
   ]
  },
  {
   "cell_type": "markdown",
   "id": "af2c8e54",
   "metadata": {},
   "source": [
    "## MUTABLE OBJECTS"
   ]
  },
  {
   "cell_type": "code",
   "execution_count": 61,
   "id": "0e691042",
   "metadata": {},
   "outputs": [
    {
     "name": "stdout",
     "output_type": "stream",
     "text": [
      "The value of a is [1, 9, 5] and the id(a) is 2080907164352.\n",
      "The value of a is [1, 9, 5] and the id(b) is 2080907164352.\n",
      "\n",
      "Conclusion: For this list variable, a mutable object, the value of the variable is different but the id() address is the same.\n"
     ]
    }
   ],
   "source": [
    "#\"\"\"For a mutable object I am expecting the value of the variable to differ but for the addresses to be the same in a single list\"\"\"\n",
    "\n",
    "#Compare variable change for list\n",
    "\n",
    "a = [1,3,5]\n",
    "b = a\n",
    "b[1] = 9\n",
    "\n",
    "print(f\"The value of a is {a} and the id(a) is {id(a)}.\")\n",
    "print(f\"The value of a is {b} and the id(b) is {id(b)}.\")\n",
    "\n",
    "print(\"\\nConclusion: For this list variable, a mutable object, the value of the variable is different but the id() address is the same.\")"
   ]
  },
  {
   "cell_type": "code",
   "execution_count": 63,
   "id": "8ed84c38",
   "metadata": {},
   "outputs": [
    {
     "name": "stdout",
     "output_type": "stream",
     "text": [
      "The value of a is [1, 3, 5] and the id(a) is 2080907165120.\n",
      "The value of a is [7, 10, 11] and the id(b) is 2080907388352.\n",
      "\n",
      "Conclusion: For this list variable(s) using 2 different lists in a mutable object, the value of the variables is different but the id() address is also different for 2 different dictionaries.\n"
     ]
    }
   ],
   "source": [
    "#\"\"\"For a mutable object I am expecting the value of the variable to differ and the addresses to differ since there qre 2 different lists\"\"\"\n",
    "\n",
    "#Compare variable change for list using a different list\n",
    "\n",
    "a = [1,3,5]\n",
    "b = a\n",
    "b = [7,10,11]\n",
    "\n",
    "print(f\"The value of a is {a} and the id(a) is {id(a)}.\")\n",
    "print(f\"The value of a is {b} and the id(b) is {id(b)}.\")\n",
    "\n",
    "print(\"\\nConclusion: For this list variable(s) using 2 different lists in a mutable object, the value of the variables is different but the id() address is also different for 2 different dictionaries.\")"
   ]
  },
  {
   "cell_type": "code",
   "execution_count": 64,
   "id": "d6b7126b",
   "metadata": {},
   "outputs": [
    {
     "name": "stdout",
     "output_type": "stream",
     "text": [
      "The value of a is {1: 'Apple', 2: 'Blueberries', 3: 'Cherry'} and the id(a) is 2080894753536.\n",
      "The value of a is {1: 'Apple', 2: 'Blueberries', 3: 'Cherry'} and the id(a) is 2080894753536.\n",
      "\n",
      "Conclusion: For this dict variable, a mutable object, the value of the variables is different but the id() address for the single dictionary is the same.\n"
     ]
    }
   ],
   "source": [
    "#Compare variable change for dict\n",
    "\n",
    "#\"\"\"For a mutable object I am expecting the value of the variable to differ but the address to be the same in a single dict.\"\"\"\n",
    "\n",
    "a = {1: \"Apple\", 2:\"Banana\", 3:\"Cherry\"}\n",
    "b = a\n",
    "a[2] = \"Blueberries\"\n",
    "\n",
    "print(f\"The value of a is {a} and the id(a) is {id(a)}.\")\n",
    "print(f\"The value of a is {b} and the id(a) is {id(b)}.\")\n",
    "\n",
    "print(\"\\nConclusion: For this dict variable, a mutable object, the value of the variables is different but the id() address for the single dictionary is the same.\")"
   ]
  },
  {
   "cell_type": "code",
   "execution_count": 69,
   "id": "fa1c6c38",
   "metadata": {},
   "outputs": [
    {
     "name": "stdout",
     "output_type": "stream",
     "text": [
      "The value of a is {1: 'Apple', 2: 'Banana', 3: 'Cherry'} and the id(a) is 2080894753536.\n",
      "The value of a is {1: 'Apricots', 2: 'Blueberries', 3: 'Cantaloupe'} and the id(a) is 2080907278592.\n",
      "\n",
      "Conclusion: For this dict variable(mutable object), the value of the variables differ but id() for 2 different dictionaries is the same.\n"
     ]
    }
   ],
   "source": [
    "#\"\"\"For an immutable object I am expecting the value of the variable to differ and the addresses to differ as well\"\"\"print(\"\\nConclusion: For this dict variable, a mutable object, the value of the variables is different but the id() address is the same.\")\n",
    "\n",
    "#Compare variable change for dict\n",
    "\n",
    "a = {1: \"Apple\", 2:\"Banana\", 3:\"Cherry\"}\n",
    "b = a\n",
    "b = {1: \"Apricots\", 2:\"Blueberries\", 3:\"Cantaloupe\"}\n",
    "\n",
    "print(f\"The value of a is {a} and the id(a) is {id(a)}.\")\n",
    "print(f\"The value of a is {b} and the id(a) is {id(b)}.\")\n",
    "\n",
    "print(\"\\nConclusion: For this dict variable(mutable object), the value of the variables differ but id() for 2 different dictionaries is the same.\")"
   ]
  }
 ],
 "metadata": {
  "kernelspec": {
   "display_name": "Python 3 (ipykernel)",
   "language": "python",
   "name": "python3"
  },
  "language_info": {
   "codemirror_mode": {
    "name": "ipython",
    "version": 3
   },
   "file_extension": ".py",
   "mimetype": "text/x-python",
   "name": "python",
   "nbconvert_exporter": "python",
   "pygments_lexer": "ipython3",
   "version": "3.9.13"
  }
 },
 "nbformat": 4,
 "nbformat_minor": 5
}
