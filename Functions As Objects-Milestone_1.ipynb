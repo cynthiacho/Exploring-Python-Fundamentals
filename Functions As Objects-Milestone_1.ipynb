{
 "cells": [
  {
   "cell_type": "markdown",
   "id": "9b0665d2",
   "metadata": {},
   "source": [
    "**Load the data. The code below loads the data into a variable called products. You can copy and paste the code into your notebook**"
   ]
  },
  {
   "cell_type": "code",
   "execution_count": 15,
   "id": "766213fd",
   "metadata": {},
   "outputs": [],
   "source": [
    "products = [[\"SKU\", \"description\", \"cost\", \"list_price\", \"units_in_stock\", \"target_margin\"],\n",
    "  ['  20776','Budget Device\\tMini\\n1000-pack','$284.43','$406.563',\n",
    "  '673','42.9%'],\n",
    " ['  13508','Budget Widget\\tExtra Large\\n1000-pack','$207.49','$270.203',\n",
    "  '461','30.2%'],\n",
    " ['   1261','Super Whatsit\\tMini\\nDozen','$1,091.33','$1,485.85','368',\n",
    "  '36.1%'],\n",
    " ['  49367','Super Gizmo\\tExtra Large\\nGross','$1,977.36','$2,589.87',\n",
    "  '2,585','31.0%'],\n",
    " ['  39655','Student Gadget\\tMini\\nGross','$437.97','$656.749','4,452',\n",
    "  '50.0%']]"
   ]
  },
  {
   "cell_type": "markdown",
   "id": "2f4a1551",
   "metadata": {},
   "source": [
    "As we read the data fields, it’s important to remember that they all are strings, which will get transformed differently based on the type of data in the field. The first step is to implement basic versions of the following functions:\n",
    "\n",
    "**get_sku(field)** – returns the contents of a field after removing leading or trailing spaces\n",
    "\n",
    "**get_description(field)** – returns the contents of a field after replacing tabs and new lines with spaces\n",
    "\n",
    "**get_currency(field)** – returns the contents of a field after removing ‘$’ and commas and converting to float\n",
    "\n",
    "**get_integer(field)** – returns the contents of a field after removing commas and converting to integer\n",
    "\n",
    "**get_percent(field)** – returns the contents of a field after removing ‘%’ and commas and converting to fraction, for example float(field_contents) / 100M"
   ]
  },
  {
   "cell_type": "code",
   "execution_count": null,
   "id": "6e3daa12",
   "metadata": {},
   "outputs": [],
   "source": []
  },
  {
   "cell_type": "code",
   "execution_count": 16,
   "id": "255b845f",
   "metadata": {},
   "outputs": [],
   "source": [
    "def get_sku(field):\n",
    "    \"\"\"remove leading trailing spaces\"\"\"\n",
    "    field = field.strip()\n",
    "    return field\n",
    "\n",
    "def get_description(field):\n",
    "    \"\"\"replace tabs and newlines with spaces\"\"\"\n",
    "    field = field.replace('\\t\\'',' ')\n",
    "    field = field.replace('\\n', ' ')                     \n",
    "    return field\n",
    "\n",
    "def get_currency(field):\n",
    "    \"\"\"remove $ and commas, convert to float\"\"\"\n",
    "    field = field.replace('$', '')\n",
    "    field = field.replace(',', '')                     \n",
    "    return float(field)\n",
    "\n",
    "def get_integer(field):\n",
    "    \"\"\"remove commas, convert to integer\"\"\"\n",
    "    field = field.replace('.', '')\n",
    "    return int(field)\n",
    "\n",
    "def get_percent(field):\n",
    "    \"\"\"remove %, commas, convert to fraction(float)\"\"\"\n",
    "    field = field.replace('%', '')\n",
    "    field = field.replace(',', '')\n",
    "    return float(field)/100"
   ]
  },
  {
   "cell_type": "code",
   "execution_count": 17,
   "id": "45af62be",
   "metadata": {},
   "outputs": [
    {
     "name": "stdout",
     "output_type": "stream",
     "text": [
      "['39655', 'Student Gadget\\tMini\\nGross', '$437.97', '$656.749', '4,452', '50.0%']\n"
     ]
    }
   ],
   "source": [
    "converted_products = []\n",
    "\n",
    "for row in products[1:]:\n",
    "    processed_row = []\n",
    "    for field_num, field in enumerate(row):\n",
    "        # process each field appropriately\n",
    "        if field_num == 0:\n",
    "            processed_row.append(get_sku(field))\n",
    "            \n",
    "        elif field_num == 1:\n",
    "            processed_row.append(get_sku(field))\n",
    "            \n",
    "        elif field_num == 2:\n",
    "            processed_row.append(get_sku(field))\n",
    "            \n",
    "        elif field_num == 3:\n",
    "            processed_row.append(get_sku(field))\n",
    "            \n",
    "        elif field_num == 4:\n",
    "            processed_row.append(get_sku(field))\n",
    "        \n",
    "        elif field_num == 5:\n",
    "            processed_row.append(get_sku(field))\n",
    "\n",
    "converted_products.append(processed_row)\n",
    "\n",
    "for product in converted_products:\n",
    "    print(product)            "
   ]
  },
  {
   "cell_type": "code",
   "execution_count": 18,
   "id": "5f9baa3c",
   "metadata": {},
   "outputs": [],
   "source": [
    "converted_products = []\n",
    "\n",
    "def clean_spaces(field):\n",
    "    \"\"\"remove leading and trailing spaces\"\"\"\n",
    "    field = field.strip()\n",
    "    return field\n",
    "\n",
    "def clean_whitespaces(field):\n",
    "    \"\"\"change tabs and newlines with spaces\"\"\"\n",
    "    field = field.replace('\\t\\'',' ')\n",
    "    field = field.replace('\\n', ' ')                     \n",
    "    return field\n",
    "\n",
    "def clean_commas(field):\n",
    "    \"\"\"remove commas\"\"\"\n",
    "    field = field.replace(',', '')\n",
    "    return field\n",
    "\n",
    "def clean_currency(field):\n",
    "    \"\"\"remove $\"\"\"\n",
    "    field = field.replace('$', '')\n",
    "    return float(field)\n",
    "\n",
    "def clean_percent(field):\n",
    "    \"\"\"remove %\"\"\"\n",
    "    field = field.replace('%', '')\n",
    "    return float(field)\n",
    "\n",
    "def get_sku(field):\n",
    "    \"\"\"remove leading spaces\"\"\"\n",
    "    field = clean_spaces(field)\n",
    "    return field\n",
    "\n",
    "def get_description(field):\n",
    "    \"\"\"replace tabs and newlines with spaces\"\"\"\n",
    "    field = clean_whitespaces(field)\n",
    "    return field\n",
    "\n",
    "def get_currency(field):\n",
    "    \"\"\"remove $ and commas\"\"\"\n",
    "    field = clean_commas(field)\n",
    "    field = clean_currency(field)                     \n",
    "    return float(field)\n",
    "\n",
    "def get_integer(field):\n",
    "    \"\"\"remove commas\"\"\"\n",
    "    field = clean_commas(field)\n",
    "    return int(field)\n",
    "\n",
    "def get_percent(field):\n",
    "    \"\"\"remove %, commas, convert to fraction(float)\"\"\"\n",
    "    field = clean_commas(field)\n",
    "    field = clean_percent(field)\n",
    "    return float(field)/100.0"
   ]
  },
  {
   "cell_type": "code",
   "execution_count": 19,
   "id": "b4a7384d",
   "metadata": {},
   "outputs": [
    {
     "name": "stdout",
     "output_type": "stream",
     "text": [
      "['39655', 'Student Gadget\\tMini Gross', 437.97, 656.749, 4452, 0.5]\n"
     ]
    }
   ],
   "source": [
    "converted_products = []\n",
    "\n",
    "for row in products[1:]:\n",
    "    processed_row = []\n",
    "    for field_num, field in enumerate(row):\n",
    "        # process each field appropriately\n",
    "        if field_num == 0:\n",
    "            processed_row.append(get_sku(field))\n",
    "            \n",
    "        elif field_num == 1:\n",
    "            processed_row.append(get_description(field))\n",
    "            \n",
    "        elif field_num == 2:\n",
    "            processed_row.append(get_currency(field))\n",
    "            \n",
    "        elif field_num == 3:\n",
    "            processed_row.append(get_currency(field))\n",
    "            \n",
    "        elif field_num == 4:\n",
    "            processed_row.append(get_integer(field))\n",
    "        \n",
    "        elif field_num == 5:\n",
    "            processed_row.append(get_percent(field))\n",
    "\n",
    "converted_products.append(processed_row)\n",
    "\n",
    "for product in converted_products:\n",
    "    print(product)            "
   ]
  },
  {
   "cell_type": "code",
   "execution_count": 20,
   "id": "a8f8e538",
   "metadata": {},
   "outputs": [],
   "source": [
    "def process_row(row):\n",
    "    processed_row = []\n",
    "    for field_num, field in enumerate(row):\n",
    "        # process each field appropriately\n",
    "        if field_num == 0:\n",
    "            processed_row.append(get_sku(field))\n",
    "            \n",
    "        elif field_num == 1:\n",
    "            processed_row.append(get_description(field))\n",
    "            \n",
    "        elif field_num == 2:\n",
    "            processed_row.append(get_currency(field))\n",
    "            \n",
    "        elif field_num == 3:\n",
    "            processed_row.append(get_currency(field))\n",
    "            \n",
    "        elif field_num == 4:\n",
    "            processed_row.append(get_integer(field))\n",
    "        \n",
    "        elif field_num == 5:\n",
    "            processed_row.append(get_percent(field))\n",
    "            \n",
    "    return processed_row"
   ]
  },
  {
   "cell_type": "code",
   "execution_count": 21,
   "id": "3e502181",
   "metadata": {},
   "outputs": [
    {
     "name": "stdout",
     "output_type": "stream",
     "text": [
      "['20776', 'Budget Device\\tMini 1000-pack', 284.43, 406.563, 673, 0.429]\n",
      "['13508', 'Budget Widget\\tExtra Large 1000-pack', 207.49, 270.203, 461, 0.302]\n",
      "['1261', 'Super Whatsit\\tMini Dozen', 1091.33, 1485.85, 368, 0.361]\n",
      "['49367', 'Super Gizmo\\tExtra Large Gross', 1977.36, 2589.87, 2585, 0.31]\n",
      "['39655', 'Student Gadget\\tMini Gross', 437.97, 656.749, 4452, 0.5]\n"
     ]
    }
   ],
   "source": [
    "converted_products = []\n",
    "\n",
    "for row in products[1:]:\n",
    "    processed_row = process_row(row)\n",
    "    converted_products.append(processed_row)\n",
    "    \n",
    "for row in converted_products:\n",
    "    print(row)"
   ]
  }
 ],
 "metadata": {
  "kernelspec": {
   "display_name": "Python 3 (ipykernel)",
   "language": "python",
   "name": "python3"
  },
  "language_info": {
   "codemirror_mode": {
    "name": "ipython",
    "version": 3
   },
   "file_extension": ".py",
   "mimetype": "text/x-python",
   "name": "python",
   "nbconvert_exporter": "python",
   "pygments_lexer": "ipython3",
   "version": "3.9.16"
  }
 },
 "nbformat": 4,
 "nbformat_minor": 5
}
