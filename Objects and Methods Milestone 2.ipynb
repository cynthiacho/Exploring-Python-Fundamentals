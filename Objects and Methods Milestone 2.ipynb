{
 "cells": [
  {
   "cell_type": "code",
   "execution_count": 15,
   "id": "f36cb1b6",
   "metadata": {},
   "outputs": [
    {
     "data": {
      "text/plain": [
       "300.0"
      ]
     },
     "execution_count": 15,
     "metadata": {},
     "output_type": "execute_result"
    }
   ],
   "source": [
    "#Create your own version of the Price class, similar to this:\n",
    "\n",
    "class Price:\n",
    "    def __init__(self, part_number, price):\n",
    "        self.price = price\n",
    "        self.part_number = part_number\n",
    "\n",
    "    def get_price(self):\n",
    "        return self.price\n",
    "    \n",
    "#Create an instance of the class called item_price.\n",
    "    \n",
    "item_price = Price(\"2136A\", 300.00)\n",
    "\n",
    "item_price.get_price()"
   ]
  },
  {
   "cell_type": "markdown",
   "id": "41c82e6d",
   "metadata": {},
   "source": [
    "## Use the dir() function and the .__dict__ attribute to explore both the instance and the class"
   ]
  },
  {
   "cell_type": "code",
   "execution_count": 16,
   "id": "94b8abf8",
   "metadata": {},
   "outputs": [
    {
     "data": {
      "text/plain": [
       "['__class__',\n",
       " '__delattr__',\n",
       " '__dict__',\n",
       " '__dir__',\n",
       " '__doc__',\n",
       " '__eq__',\n",
       " '__format__',\n",
       " '__ge__',\n",
       " '__getattribute__',\n",
       " '__gt__',\n",
       " '__hash__',\n",
       " '__init__',\n",
       " '__init_subclass__',\n",
       " '__le__',\n",
       " '__lt__',\n",
       " '__module__',\n",
       " '__ne__',\n",
       " '__new__',\n",
       " '__reduce__',\n",
       " '__reduce_ex__',\n",
       " '__repr__',\n",
       " '__setattr__',\n",
       " '__sizeof__',\n",
       " '__str__',\n",
       " '__subclasshook__',\n",
       " '__weakref__',\n",
       " 'get_price']"
      ]
     },
     "execution_count": 16,
     "metadata": {},
     "output_type": "execute_result"
    }
   ],
   "source": [
    "#Class (all methods available to the class here in this situation along with the data attributes)\n",
    "\n",
    "dir(Price)"
   ]
  },
  {
   "cell_type": "code",
   "execution_count": 17,
   "id": "79721f18",
   "metadata": {},
   "outputs": [
    {
     "data": {
      "text/plain": [
       "['__class__',\n",
       " '__delattr__',\n",
       " '__dict__',\n",
       " '__dir__',\n",
       " '__doc__',\n",
       " '__eq__',\n",
       " '__format__',\n",
       " '__ge__',\n",
       " '__getattribute__',\n",
       " '__gt__',\n",
       " '__hash__',\n",
       " '__init__',\n",
       " '__init_subclass__',\n",
       " '__le__',\n",
       " '__lt__',\n",
       " '__module__',\n",
       " '__ne__',\n",
       " '__new__',\n",
       " '__reduce__',\n",
       " '__reduce_ex__',\n",
       " '__repr__',\n",
       " '__setattr__',\n",
       " '__sizeof__',\n",
       " '__str__',\n",
       " '__subclasshook__',\n",
       " '__weakref__',\n",
       " 'get_price',\n",
       " 'part_number',\n",
       " 'price']"
      ]
     },
     "execution_count": 17,
     "metadata": {},
     "output_type": "execute_result"
    }
   ],
   "source": [
    "#Instance (all methods available to the instance here in this situation along with the data attributes)\n",
    "\n",
    "dir(item_price)"
   ]
  },
  {
   "cell_type": "markdown",
   "id": "1c8e93ab",
   "metadata": {},
   "source": [
    "i.e. 'part_number', 'price'"
   ]
  },
  {
   "cell_type": "code",
   "execution_count": 18,
   "id": "fb225e5f",
   "metadata": {},
   "outputs": [
    {
     "data": {
      "text/plain": [
       "mappingproxy({'__module__': '__main__',\n",
       "              '__init__': <function __main__.Price.__init__(self, part_number, price)>,\n",
       "              'get_price': <function __main__.Price.get_price(self)>,\n",
       "              '__dict__': <attribute '__dict__' of 'Price' objects>,\n",
       "              '__weakref__': <attribute '__weakref__' of 'Price' objects>,\n",
       "              '__doc__': None})"
      ]
     },
     "execution_count": 18,
     "metadata": {},
     "output_type": "execute_result"
    }
   ],
   "source": [
    "#__dict shows us what is specifically part of the class\n",
    "\n",
    "Price.__dict__"
   ]
  },
  {
   "cell_type": "markdown",
   "id": "8cd60d02",
   "metadata": {},
   "source": [
    "i.e. '__init__' and 'get_price'"
   ]
  },
  {
   "cell_type": "code",
   "execution_count": 19,
   "id": "1d728f32",
   "metadata": {},
   "outputs": [
    {
     "data": {
      "text/plain": [
       "{'price': 300.0, 'part_number': '2136A'}"
      ]
     },
     "execution_count": 19,
     "metadata": {},
     "output_type": "execute_result"
    }
   ],
   "source": [
    "#__dict shows us what is specifically part of the instance\n",
    "\n",
    "item_price.__dict__"
   ]
  },
  {
   "cell_type": "markdown",
   "id": "30aaa39b",
   "metadata": {},
   "source": [
    "i.e. 'price', 'part_number'"
   ]
  },
  {
   "cell_type": "markdown",
   "id": "7ebd074a",
   "metadata": {},
   "source": [
    "## Are there any attributes that are part of the class but not the instance? Any that are part of the instance but not the class?\n",
    "\n",
    "\n",
    "Answer: Yes. The price and the part number are part of the instance but not the class.\n"
   ]
  },
  {
   "cell_type": "code",
   "execution_count": 20,
   "id": "912a6c3b",
   "metadata": {},
   "outputs": [],
   "source": [
    "#Create functions specific to the Price class\n",
    "\n",
    "def set_discount(item_price, percent_off):\n",
    "    item_price.percent_off = percent_off\n",
    "    \n",
    "def get_discount_price(item_price):\n",
    "    return item_price.price - (item_price.price *item_price.percent_off )"
   ]
  },
  {
   "cell_type": "code",
   "execution_count": 21,
   "id": "0e177946",
   "metadata": {},
   "outputs": [],
   "source": [
    "#Set those functions as methods of the class\n",
    "\n",
    "Price.get_discount_price = get_discount_price\n",
    "\n",
    "Price.set_discount = set_discount"
   ]
  },
  {
   "cell_type": "code",
   "execution_count": 22,
   "id": "c4e550c5",
   "metadata": {},
   "outputs": [
    {
     "data": {
      "text/plain": [
       "mappingproxy({'__module__': '__main__',\n",
       "              '__init__': <function __main__.Price.__init__(self, part_number, price)>,\n",
       "              'get_price': <function __main__.Price.get_price(self)>,\n",
       "              '__dict__': <attribute '__dict__' of 'Price' objects>,\n",
       "              '__weakref__': <attribute '__weakref__' of 'Price' objects>,\n",
       "              '__doc__': None,\n",
       "              'get_discount_price': <function __main__.get_discount_price(item_price)>,\n",
       "              'set_discount': <function __main__.set_discount(item_price, percent_off)>})"
      ]
     },
     "execution_count": 22,
     "metadata": {},
     "output_type": "execute_result"
    }
   ],
   "source": [
    "#Methods are part of the class\n",
    "\n",
    "Price.__dict__"
   ]
  },
  {
   "cell_type": "code",
   "execution_count": 23,
   "id": "4b247e43",
   "metadata": {
    "scrolled": true
   },
   "outputs": [
    {
     "data": {
      "text/plain": [
       "225.0"
      ]
     },
     "execution_count": 23,
     "metadata": {},
     "output_type": "execute_result"
    }
   ],
   "source": [
    "#Stand alone function where instance of class used as the first parameter\n",
    "\n",
    "set_discount(item_price, 0.25)\n",
    "\n",
    "get_discount_price(item_price)"
   ]
  },
  {
   "cell_type": "code",
   "execution_count": 24,
   "id": "98f6d688",
   "metadata": {},
   "outputs": [
    {
     "data": {
      "text/plain": [
       "225.0"
      ]
     },
     "execution_count": 24,
     "metadata": {},
     "output_type": "execute_result"
    }
   ],
   "source": [
    "#Call those methods as part of the item price instance\n",
    "\n",
    "#self parameter passed along and don't add explicitly\n",
    "\n",
    "item_price.set_discount(0.25)\n",
    "\n",
    "item_price.get_discount_price()"
   ]
  },
  {
   "cell_type": "code",
   "execution_count": null,
   "id": "0a36f2a5",
   "metadata": {},
   "outputs": [],
   "source": []
  },
  {
   "cell_type": "code",
   "execution_count": 25,
   "id": "817f3eb0",
   "metadata": {},
   "outputs": [],
   "source": [
    "class Price_2:\n",
    "    def __init__(self, part_number, price):\n",
    "        self.price = price\n",
    "        self.part_number = part_number\n",
    "\n",
    "    def get_price(self):\n",
    "        return self.price"
   ]
  },
  {
   "cell_type": "code",
   "execution_count": 26,
   "id": "f20bfe7d",
   "metadata": {},
   "outputs": [],
   "source": [
    "item_price_3 = Price_2(\"2136A\", 300.00)"
   ]
  },
  {
   "cell_type": "code",
   "execution_count": 27,
   "id": "55078d2e",
   "metadata": {},
   "outputs": [],
   "source": [
    "item_price_3.get_discount_price = get_discount_price\n",
    "item_price_3.set_discount = set_discount"
   ]
  },
  {
   "cell_type": "code",
   "execution_count": 28,
   "id": "35909199",
   "metadata": {},
   "outputs": [
    {
     "ename": "TypeError",
     "evalue": "set_discount() missing 1 required positional argument: 'percent_off'",
     "output_type": "error",
     "traceback": [
      "\u001b[1;31m---------------------------------------------------------------------------\u001b[0m",
      "\u001b[1;31mTypeError\u001b[0m                                 Traceback (most recent call last)",
      "Cell \u001b[1;32mIn[28], line 1\u001b[0m\n\u001b[1;32m----> 1\u001b[0m \u001b[43mitem_price_3\u001b[49m\u001b[38;5;241;43m.\u001b[39;49m\u001b[43mset_discount\u001b[49m\u001b[43m(\u001b[49m\u001b[38;5;241;43m0.25\u001b[39;49m\u001b[43m)\u001b[49m\n\u001b[0;32m      2\u001b[0m item_price_3\u001b[38;5;241m.\u001b[39mget_discount_price(\u001b[38;5;241m0.25\u001b[39m)\n",
      "\u001b[1;31mTypeError\u001b[0m: set_discount() missing 1 required positional argument: 'percent_off'"
     ]
    }
   ],
   "source": [
    "#Self not passsed through. Method attached to instance is piece of data linking up function attached to class as bound method\n",
    "\n",
    "item_price_3.set_discount(0.25)\n",
    "item_price_3.get_discount_price(0.25)"
   ]
  },
  {
   "cell_type": "code",
   "execution_count": 29,
   "id": "9255a056",
   "metadata": {},
   "outputs": [
    {
     "data": {
      "text/plain": [
       "{'price': 300.0,\n",
       " 'part_number': '2136A',\n",
       " 'get_discount_price': <function __main__.get_discount_price(item_price)>,\n",
       " 'set_discount': <function __main__.set_discount(item_price, percent_off)>}"
      ]
     },
     "execution_count": 29,
     "metadata": {},
     "output_type": "execute_result"
    }
   ],
   "source": [
    "item_price_3.__dict__"
   ]
  },
  {
   "cell_type": "code",
   "execution_count": 31,
   "id": "dd57fa57",
   "metadata": {},
   "outputs": [
    {
     "data": {
      "text/plain": [
       "mappingproxy({'__module__': '__main__',\n",
       "              '__init__': <function __main__.Price_2.__init__(self, part_number, price)>,\n",
       "              'get_price': <function __main__.Price_2.get_price(self)>,\n",
       "              '__dict__': <attribute '__dict__' of 'Price_2' objects>,\n",
       "              '__weakref__': <attribute '__weakref__' of 'Price_2' objects>,\n",
       "              '__doc__': None})"
      ]
     },
     "execution_count": 31,
     "metadata": {},
     "output_type": "execute_result"
    }
   ],
   "source": [
    "Price_2.__dict__"
   ]
  }
 ],
 "metadata": {
  "kernelspec": {
   "display_name": "Python 3 (ipykernel)",
   "language": "python",
   "name": "python3"
  },
  "language_info": {
   "codemirror_mode": {
    "name": "ipython",
    "version": 3
   },
   "file_extension": ".py",
   "mimetype": "text/x-python",
   "name": "python",
   "nbconvert_exporter": "python",
   "pygments_lexer": "ipython3",
   "version": "3.9.13"
  }
 },
 "nbformat": 4,
 "nbformat_minor": 5
}
