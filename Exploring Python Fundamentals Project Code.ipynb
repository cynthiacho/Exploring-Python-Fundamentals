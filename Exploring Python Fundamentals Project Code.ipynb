{
 "cells": [
  {
   "cell_type": "markdown",
   "id": "61aedcaf",
   "metadata": {},
   "source": [
    "## Workflow\n",
    "\n",
    "# Write code to discover the extent of the puzzling behavior, creating and modifying pairs of variables with different types in Python.\n",
    "-Include variable types like int, float, str, list, tuple, and dict.\n",
    "-Create one variable, then create a second variable that is equal to the first.\n",
    "-Change one of the two variables and see what happens. If the type allows it, try changing both the contents (an element in a list or dictionary) as well as setting it equal to a new object.\n",
    "-State your understanding of the ways Python variables behave.\n",
    "\n",
    "# Deliverable\n",
    "\n",
    "Submit the code you wrote for Milestone 1 below (a Jupyter notebook or the contents of your shell session). To cover all of the variable types (int, float, str, list, tuple, and dict), you should have eight or nine sets of variables.\n",
    "\n",
    "-Write code to discover the extent of the puzzling behavior, creating and modifying pairs of variables with different types in Python.\n",
    "-Include variable types like int, float, str, list, tuple, and dict.\n",
    "=Create one variable, then create a second variable that is equal to the first.\n",
    "-Change one of the two variables and see what happens. If the type allows it, try changing both the contents (an element in a list or dictionary) as well as setting it equal to a new object.\n",
    "-Upload a link to your deliverable in the Submit Your Work section and click submit. After submitting, the Author’s solution and peer solutions will appear on the page for you to examine."
   ]
  },
  {
   "cell_type": "markdown",
   "id": "d0e0bca7",
   "metadata": {},
   "source": [
    "## IMMUTABLE OBJECTS"
   ]
  },
  {
   "cell_type": "code",
   "execution_count": 4,
   "id": "8ac507d8",
   "metadata": {},
   "outputs": [
    {
     "name": "stdout",
     "output_type": "stream",
     "text": [
      "The value of a, b, and c is 50, 25,and 25\n"
     ]
    }
   ],
   "source": [
    "#Compare variable change for int\n",
    "\n",
    "a = 50\n",
    "b = a\n",
    "b = 25\n",
    "c = b\n",
    "\n",
    "print(f\"The value of a, b, and c is {a}, {b},and {c}\")"
   ]
  },
  {
   "cell_type": "code",
   "execution_count": 5,
   "id": "945ed460",
   "metadata": {},
   "outputs": [
    {
     "name": "stdout",
     "output_type": "stream",
     "text": [
      "The value of a, b, and c is 50, 25,and 40\n"
     ]
    }
   ],
   "source": [
    "#Compare variable change for int\n",
    "\n",
    "a = 50\n",
    "b =a\n",
    "b = 25\n",
    "c = 40\n",
    "\n",
    "print(f\"The value of a, b, and c is {a}, {b},and {c}\")"
   ]
  },
  {
   "cell_type": "code",
   "execution_count": 6,
   "id": "8dd6fb2c",
   "metadata": {},
   "outputs": [
    {
     "name": "stdout",
     "output_type": "stream",
     "text": [
      "The value of a, b, and c is 5.0, 5.6, and 4.5\n"
     ]
    }
   ],
   "source": [
    "#Compare variable change for float\n",
    "\n",
    "a = 5.0\n",
    "b = 4.5\n",
    "c = b\n",
    "b = 5.6\n",
    "\n",
    "print(f\"The value of a, b, and c is {a}, {b}, and {c}\")"
   ]
  },
  {
   "cell_type": "code",
   "execution_count": 7,
   "id": "acb01b6d",
   "metadata": {},
   "outputs": [
    {
     "name": "stdout",
     "output_type": "stream",
     "text": [
      "The value of a and b is Three and Four.\n"
     ]
    }
   ],
   "source": [
    "#Compare variable change for string\n",
    "\n",
    "a = \"Three\"\n",
    "b = a\n",
    "b = \"Four\"\n",
    "\n",
    "print(f\"The value of a and b is {a} and {b}.\")"
   ]
  },
  {
   "cell_type": "code",
   "execution_count": 8,
   "id": "2830d0da",
   "metadata": {},
   "outputs": [
    {
     "ename": "TypeError",
     "evalue": "'tuple' object does not support item assignment",
     "output_type": "error",
     "traceback": [
      "\u001b[1;31m---------------------------------------------------------------------------\u001b[0m",
      "\u001b[1;31mTypeError\u001b[0m                                 Traceback (most recent call last)",
      "Cell \u001b[1;32mIn[8], line 6\u001b[0m\n\u001b[0;32m      4\u001b[0m b \u001b[38;5;241m=\u001b[39m a\n\u001b[0;32m      5\u001b[0m b \u001b[38;5;241m=\u001b[39m (\u001b[38;5;241m8\u001b[39m,\u001b[38;5;241m9\u001b[39m,\u001b[38;5;241m12\u001b[39m)\n\u001b[1;32m----> 6\u001b[0m b[\u001b[38;5;241m1\u001b[39m] \u001b[38;5;241m=\u001b[39m \u001b[38;5;241m10\u001b[39m\n\u001b[0;32m      8\u001b[0m \u001b[38;5;28mprint\u001b[39m(\u001b[38;5;124mf\u001b[39m\u001b[38;5;124m\"\u001b[39m\u001b[38;5;124mThe value of a and b is \u001b[39m\u001b[38;5;132;01m{\u001b[39;00ma\u001b[38;5;132;01m}\u001b[39;00m\u001b[38;5;124m and \u001b[39m\u001b[38;5;132;01m{\u001b[39;00mb\u001b[38;5;132;01m}\u001b[39;00m\u001b[38;5;124m.\u001b[39m\u001b[38;5;124m\"\u001b[39m)\n",
      "\u001b[1;31mTypeError\u001b[0m: 'tuple' object does not support item assignment"
     ]
    }
   ],
   "source": [
    "#Compare variable change for tuple\n",
    "\n",
    "a = (2,4,6)\n",
    "b = a\n",
    "b = (8,9,12)\n",
    "b[1] = 10\n",
    "\n",
    "print(f\"The value of a and b is {a} and {b}.\")"
   ]
  },
  {
   "cell_type": "markdown",
   "id": "af2c8e54",
   "metadata": {},
   "source": [
    "## MUTABLE OBJECTS"
   ]
  },
  {
   "cell_type": "code",
   "execution_count": 9,
   "id": "0e691042",
   "metadata": {},
   "outputs": [
    {
     "name": "stdout",
     "output_type": "stream",
     "text": [
      "The value of a and b is [1, 3, 5] and [7, 9, 11].\n"
     ]
    }
   ],
   "source": [
    "#Compare variable change for list\n",
    "\n",
    "a = [1,3,5]\n",
    "b = a\n",
    "b = [7,10,11]\n",
    "b[1] = 9\n",
    "\n",
    "print(f\"The value of a and b is {a} and {b}.\")"
   ]
  },
  {
   "cell_type": "code",
   "execution_count": 10,
   "id": "d6b7126b",
   "metadata": {},
   "outputs": [
    {
     "name": "stdout",
     "output_type": "stream",
     "text": [
      "The value of a is {1: 'Apple', 2: 'Blueberries', 3: 'Cherry'} and the value of b is {1: 'Apple', 2: 'Blueberries', 3: 'Cherry'}.\n"
     ]
    }
   ],
   "source": [
    "#Compare variable change for dict\n",
    "\n",
    "a = {1: \"Apple\", 2:\"Banana\", 3:\"Cherry\"}\n",
    "b = a\n",
    "a[2] = \"Blueberries\"\n",
    "\n",
    "print(f\"The value of a is {a} and the value of b is {b}.\")"
   ]
  }
 ],
 "metadata": {
  "kernelspec": {
   "display_name": "Python 3 (ipykernel)",
   "language": "python",
   "name": "python3"
  },
  "language_info": {
   "codemirror_mode": {
    "name": "ipython",
    "version": 3
   },
   "file_extension": ".py",
   "mimetype": "text/x-python",
   "name": "python",
   "nbconvert_exporter": "python",
   "pygments_lexer": "ipython3",
   "version": "3.9.13"
  }
 },
 "nbformat": 4,
 "nbformat_minor": 5
}
