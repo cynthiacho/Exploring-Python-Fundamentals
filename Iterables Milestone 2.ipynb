{
 "cells": [
  {
   "cell_type": "markdown",
   "id": "491bd881",
   "metadata": {},
   "source": [
    "**CountIterator Object**"
   ]
  },
  {
   "cell_type": "code",
   "execution_count": 21,
   "id": "fc1a8a29",
   "metadata": {},
   "outputs": [],
   "source": [
    "class CountIterator:\n",
    "  def __init__(self, limit):\n",
    "      self.limit = limit\n",
    "      self.count = 0\n",
    "        \n",
    "  def __next__(self):\n",
    "      if self.count < self.limit:\n",
    "          value = self.count\n",
    "          self.count += 1\n",
    "          return value\n",
    "      else:\n",
    "          raise StopIteration\n",
    "\n",
    "  def __iter__(self):\n",
    "      return self"
   ]
  },
  {
   "cell_type": "code",
   "execution_count": 22,
   "id": "355064a8",
   "metadata": {},
   "outputs": [
    {
     "name": "stdout",
     "output_type": "stream",
     "text": [
      "0\n",
      "1\n",
      "2\n",
      "3\n",
      "4\n",
      "5\n"
     ]
    }
   ],
   "source": [
    "count_iter = CountIterator(6)\n",
    "for x in count_iter:\n",
    "    print(x)"
   ]
  },
  {
   "cell_type": "markdown",
   "id": "8062eda6",
   "metadata": {},
   "source": [
    "**count_generator**"
   ]
  },
  {
   "cell_type": "code",
   "execution_count": 23,
   "id": "18c89944",
   "metadata": {},
   "outputs": [
    {
     "name": "stdout",
     "output_type": "stream",
     "text": [
      "0\n",
      "1\n",
      "2\n",
      "3\n",
      "4\n"
     ]
    }
   ],
   "source": [
    "def count_generator(limit):\n",
    "    count = 0\n",
    "    while count < limit:\n",
    "        yield count\n",
    "        count += 1\n",
    "    \n",
    "for x in count_generator(5):\n",
    "    print(x)"
   ]
  },
  {
   "cell_type": "code",
   "execution_count": 24,
   "id": "4bae2496",
   "metadata": {},
   "outputs": [
    {
     "name": "stdout",
     "output_type": "stream",
     "text": [
      "0\n",
      "1\n",
      "2\n",
      "3\n"
     ]
    }
   ],
   "source": [
    "counter_4 = count_generator(4)\n",
    "\n",
    "for x in counter_4:\n",
    "    print(x)"
   ]
  },
  {
   "cell_type": "markdown",
   "id": "da5d8028",
   "metadata": {},
   "source": [
    "**Fibonacci Iterator**"
   ]
  },
  {
   "cell_type": "code",
   "execution_count": 25,
   "id": "a1ce6ed4",
   "metadata": {},
   "outputs": [],
   "source": [
    "class Fibonacci_iter:\n",
    "    def __init__(self, limit):\n",
    "        # set the maximum number of Fibbonacci numbers\n",
    "        self.limit = limit\n",
    "        self.last = 1\n",
    "        self.current = 1\n",
    "        self.count = 0\n",
    "               \n",
    "    def __next__(self):\n",
    "        if self.count in (0, 1):\n",
    "            self.count += 1\n",
    "            return self.current\n",
    "        elif self.count < self.limit:\n",
    "            self.last, self.current = (self.current, self.last + self.current)\n",
    "            self.count += 1\n",
    "            return self.current\n",
    "        else:\n",
    "            raise StopIteration\n",
    "    def __iter__(self):\n",
    "        return self        "
   ]
  },
  {
   "cell_type": "code",
   "execution_count": 26,
   "id": "b17a8a27",
   "metadata": {},
   "outputs": [
    {
     "name": "stdout",
     "output_type": "stream",
     "text": [
      "1\n",
      "1\n",
      "2\n",
      "3\n",
      "5\n",
      "8\n",
      "13\n",
      "21\n",
      "34\n",
      "55\n"
     ]
    }
   ],
   "source": [
    "fib_iter = Fibonacci_iter(10)\n",
    "\n",
    "for x in fib_iter:\n",
    "    print(x)"
   ]
  },
  {
   "cell_type": "code",
   "execution_count": 27,
   "id": "9bb925c7",
   "metadata": {},
   "outputs": [
    {
     "ename": "StopIteration",
     "evalue": "",
     "output_type": "error",
     "traceback": [
      "\u001b[1;31m---------------------------------------------------------------------------\u001b[0m",
      "\u001b[1;31mStopIteration\u001b[0m                             Traceback (most recent call last)",
      "Cell \u001b[1;32mIn[27], line 1\u001b[0m\n\u001b[1;32m----> 1\u001b[0m \u001b[38;5;28;43mnext\u001b[39;49m\u001b[43m(\u001b[49m\u001b[43mfib_iter\u001b[49m\u001b[43m)\u001b[49m\n",
      "Cell \u001b[1;32mIn[25], line 18\u001b[0m, in \u001b[0;36mFibonacci_iter.__next__\u001b[1;34m(self)\u001b[0m\n\u001b[0;32m     16\u001b[0m     \u001b[38;5;28;01mreturn\u001b[39;00m \u001b[38;5;28mself\u001b[39m\u001b[38;5;241m.\u001b[39mcurrent\n\u001b[0;32m     17\u001b[0m \u001b[38;5;28;01melse\u001b[39;00m:\n\u001b[1;32m---> 18\u001b[0m     \u001b[38;5;28;01mraise\u001b[39;00m \u001b[38;5;167;01mStopIteration\u001b[39;00m\n",
      "\u001b[1;31mStopIteration\u001b[0m: "
     ]
    }
   ],
   "source": [
    "next(fib_iter)"
   ]
  },
  {
   "cell_type": "markdown",
   "id": "a26743f5",
   "metadata": {},
   "source": [
    "**Fibonacci Generator**"
   ]
  },
  {
   "cell_type": "code",
   "execution_count": null,
   "id": "a6e4efd6",
   "metadata": {},
   "outputs": [],
   "source": [
    "def fib_generator(limit):\n",
    "    count = 0\n",
    "    last = 1\n",
    "    while count < limit:\n",
    "        if count < 2:\n",
    "            current = 1\n",
    "        else:\n",
    "            last, current = current, last + current\n",
    "        count += 1\n",
    "        yield current        "
   ]
  },
  {
   "cell_type": "code",
   "execution_count": null,
   "id": "ff6a312d",
   "metadata": {},
   "outputs": [],
   "source": [
    "for x in fib_generator(12):\n",
    "    print(x)"
   ]
  },
  {
   "cell_type": "code",
   "execution_count": 28,
   "id": "dc4248c5",
   "metadata": {},
   "outputs": [
    {
     "name": "stdout",
     "output_type": "stream",
     "text": [
      "<generator object fib_generator at 0x000001AB2C5E3270>\n"
     ]
    }
   ],
   "source": [
    "fib_gen = fib_generator(12)\n",
    "print(fib_gen)    "
   ]
  },
  {
   "cell_type": "code",
   "execution_count": 29,
   "id": "6dcbee3e",
   "metadata": {},
   "outputs": [
    {
     "name": "stdout",
     "output_type": "stream",
     "text": [
      "1\n",
      "1\n",
      "2\n",
      "3\n",
      "5\n",
      "8\n",
      "13\n",
      "21\n",
      "34\n",
      "55\n",
      "89\n",
      "144\n"
     ]
    }
   ],
   "source": [
    "for x in fib_gen:\n",
    "    print(x)"
   ]
  }
 ],
 "metadata": {
  "kernelspec": {
   "display_name": "Python 3 (ipykernel)",
   "language": "python",
   "name": "python3"
  },
  "language_info": {
   "codemirror_mode": {
    "name": "ipython",
    "version": 3
   },
   "file_extension": ".py",
   "mimetype": "text/x-python",
   "name": "python",
   "nbconvert_exporter": "python",
   "pygments_lexer": "ipython3",
   "version": "3.9.16"
  }
 },
 "nbformat": 4,
 "nbformat_minor": 5
}
