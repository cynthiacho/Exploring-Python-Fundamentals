{
 "cells": [
  {
   "cell_type": "code",
   "execution_count": 42,
   "id": "f36cb1b6",
   "metadata": {},
   "outputs": [
    {
     "data": {
      "text/plain": [
       "350.0"
      ]
     },
     "execution_count": 42,
     "metadata": {},
     "output_type": "execute_result"
    }
   ],
   "source": [
    "#Create your own version of the Price class, similar to this:\n",
    "\n",
    "class Price:\n",
    "    def __init__(self, part_number, price):\n",
    "        self.price = price\n",
    "        self.part_number = part_number\n",
    "\n",
    "    def get_price(self):\n",
    "        return self.price\n",
    "    \n",
    "item_price = Price(\"2134A\", 350.00)\n",
    "\n",
    "item_price.get_price()"
   ]
  },
  {
   "cell_type": "code",
   "execution_count": 4,
   "id": "912a6c3b",
   "metadata": {},
   "outputs": [
    {
     "ename": "NameError",
     "evalue": "name 'func__init__' is not defined",
     "output_type": "error",
     "traceback": [
      "\u001b[1;31m---------------------------------------------------------------------------\u001b[0m",
      "\u001b[1;31mNameError\u001b[0m                                 Traceback (most recent call last)",
      "Cell \u001b[1;32mIn[4], line 10\u001b[0m\n\u001b[0;32m      7\u001b[0m     \u001b[38;5;28;01mdef\u001b[39;00m \u001b[38;5;21mfunc__get__price\u001b[39m(\u001b[38;5;28mself\u001b[39m):\n\u001b[0;32m      8\u001b[0m         \u001b[38;5;28;01mreturn\u001b[39;00m \u001b[38;5;28mself\u001b[39m\u001b[38;5;241m.\u001b[39mprice\n\u001b[1;32m---> 10\u001b[0m namespace \u001b[38;5;241m=\u001b[39m {\u001b[38;5;124m\"\u001b[39m\u001b[38;5;124m__init__\u001b[39m\u001b[38;5;124m\"\u001b[39m: \u001b[43mfunc__init__\u001b[49m, \u001b[38;5;124m\"\u001b[39m\u001b[38;5;124mget_price\u001b[39m\u001b[38;5;124m\"\u001b[39m: func_get_price}\n\u001b[0;32m     12\u001b[0m Price2 \u001b[38;5;241m=\u001b[39m \u001b[38;5;28mtype\u001b[39m(\u001b[38;5;124m'\u001b[39m\u001b[38;5;124mPrice2\u001b[39m\u001b[38;5;124m'\u001b[39m, (), namespace)\n\u001b[0;32m     14\u001b[0m another_price \u001b[38;5;241m=\u001b[39m Price2(\u001b[38;5;124m\"\u001b[39m\u001b[38;5;124m2135A\u001b[39m\u001b[38;5;124m\"\u001b[39m, \u001b[38;5;241m400.00\u001b[39m)\n",
      "\u001b[1;31mNameError\u001b[0m: name 'func__init__' is not defined"
     ]
    }
   ],
   "source": [
    "class Price:\n",
    "    \n",
    "    def func__init__(self, part_number, price):    \n",
    "        self.price = price\n",
    "        self.part_number = part_number\n",
    "\n",
    "    def func__get__price(self):\n",
    "        return self.price\n",
    "    \n",
    "namespace = {\"__init__\": func__init__, \"get_price\": func_get_price}\n",
    "    \n",
    "Price2 = type('Price2', (), namespace)"
   ]
  },
  {
   "cell_type": "code",
   "execution_count": 6,
   "id": "c4e550c5",
   "metadata": {},
   "outputs": [
    {
     "ename": "NameError",
     "evalue": "name 'Price2' is not defined",
     "output_type": "error",
     "traceback": [
      "\u001b[1;31m---------------------------------------------------------------------------\u001b[0m",
      "\u001b[1;31mNameError\u001b[0m                                 Traceback (most recent call last)",
      "Cell \u001b[1;32mIn[6], line 1\u001b[0m\n\u001b[1;32m----> 1\u001b[0m another_price \u001b[38;5;241m=\u001b[39m \u001b[43mPrice2\u001b[49m(\u001b[38;5;124m\"\u001b[39m\u001b[38;5;124m2135A\u001b[39m\u001b[38;5;124m\"\u001b[39m, \u001b[38;5;241m400.00\u001b[39m)\n\u001b[0;32m      3\u001b[0m another_price \n\u001b[0;32m      5\u001b[0m another_price\u001b[38;5;241m.\u001b[39mgetprice()\n",
      "\u001b[1;31mNameError\u001b[0m: name 'Price2' is not defined"
     ]
    }
   ],
   "source": [
    "another_price = Price2(\"2135A\", 400.00)\n",
    "    \n",
    "another_price \n",
    "\n",
    "another_price.getprice()"
   ]
  },
  {
   "cell_type": "code",
   "execution_count": null,
   "id": "dea1cc63",
   "metadata": {},
   "outputs": [],
   "source": []
  }
 ],
 "metadata": {
  "kernelspec": {
   "display_name": "Python 3 (ipykernel)",
   "language": "python",
   "name": "python3"
  },
  "language_info": {
   "codemirror_mode": {
    "name": "ipython",
    "version": 3
   },
   "file_extension": ".py",
   "mimetype": "text/x-python",
   "name": "python",
   "nbconvert_exporter": "python",
   "pygments_lexer": "ipython3",
   "version": "3.9.13"
  }
 },
 "nbformat": 4,
 "nbformat_minor": 5
}
